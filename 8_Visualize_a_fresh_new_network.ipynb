{
 "cells": [
  {
   "cell_type": "markdown",
   "metadata": {},
   "source": [
    "# Vizualiziranje netrenirane mreže\n",
    "\n",
    "Neki rezultati u vizualizaciji _kitty_ mreže su mi, well, bili _čudni_, odnosno činilo se da neuroni pokazuju više-nego-što-bih-očekivao pravilnosti u checkpointu _prije ikakvog treniranja_. Zato ovdje ide svježe-učitana mreža pod skalpel, s težinama određenima s tim koja je je već defaultna PyTorch metoda inicijalizacije.\n",
    "\n",
    "Sav kod i metode su samo copy-paste iz _kitty_ vizualizacija bilježnice, a čak je i mreža copy-pasteana, samo ovdje nisam ovdje učitavao nikakve _checkpointe_."
   ]
  },
  {
   "cell_type": "markdown",
   "metadata": {},
   "source": [
    "## Definicije i importovi"
   ]
  },
  {
   "cell_type": "code",
   "execution_count": null,
   "metadata": {
    "colab": {
     "base_uri": "https://localhost:8080/"
    },
    "id": "Gfklqz8Xl2Cr",
    "outputId": "bdb2760f-c01b-407d-afbb-35ba45ab756e",
    "scrolled": true
   },
   "outputs": [],
   "source": [
    "pip install torch-lucent"
   ]
  },
  {
   "cell_type": "code",
   "execution_count": null,
   "metadata": {},
   "outputs": [],
   "source": [
    "from lucent.optvis.transform import pad, jitter, random_rotate, random_scale\n",
    "from lucent.optvis import render, param, transform, objectives\n",
    "from tqdm import tqdm\n",
    "import numpy as np"
   ]
  },
  {
   "cell_type": "code",
   "execution_count": null,
   "metadata": {
    "id": "l8nJovfjmTov"
   },
   "outputs": [],
   "source": [
    "import torch\n",
    "\n",
    "from lucent.optvis import render, param, transform, objectives\n",
    "\n",
    "device = torch.device(\"cuda:0\" if torch.cuda.is_available() else \"cpu\")"
   ]
  },
  {
   "cell_type": "code",
   "execution_count": null,
   "metadata": {},
   "outputs": [],
   "source": [
    "import matplotlib.pyplot as plt\n",
    "import matplotlib.image as mpimg"
   ]
  },
  {
   "cell_type": "code",
   "execution_count": null,
   "metadata": {},
   "outputs": [],
   "source": [
    "# da bilježnice budu manje:\n",
    "%config InlineBackend.figure_format = 'jpg'"
   ]
  },
  {
   "cell_type": "code",
   "execution_count": null,
   "metadata": {},
   "outputs": [],
   "source": [
    "import warnings\n",
    "warnings.filterwarnings('ignore')"
   ]
  },
  {
   "cell_type": "code",
   "execution_count": null,
   "metadata": {
    "id": "xSzTWREboP_e"
   },
   "outputs": [],
   "source": [
    "import torch.nn as nn\n",
    "import torch.nn.functional as F\n",
    "\n",
    "class Net(nn.Module):\n",
    "    def __init__(self):\n",
    "        super().__init__()\n",
    "        self.bn0 = nn.BatchNorm2d(3)\n",
    "        self.conv1 = nn.Conv2d(3, 9, 3)\n",
    "        self.pool1 = nn.AvgPool2d(4, 4)\n",
    "        \n",
    "        self.conv1_bn = nn.BatchNorm2d(9)\n",
    "        self.conv2 = nn.Conv2d(9, 16, 3)\n",
    "        self.pool2 = nn.AvgPool2d(4, 4)\n",
    "        \n",
    "        self.conv2_bn = nn.BatchNorm2d(16)\n",
    "        self.conv3 = nn.Conv2d(16, 25, 3)\n",
    "        self.pool3 = nn.AvgPool2d(4, 4)\n",
    "        \n",
    "        self.conv3_bn = nn.BatchNorm2d(25)\n",
    "        self.conv4 = nn.Conv2d(25, 36, 3)\n",
    "        self.pool4 = nn.AvgPool2d(2 , 2)\n",
    "        \n",
    "        self.fc = nn.Linear(324, 4)\n",
    "\n",
    "    def forward(self, x):\n",
    "        x = self.bn0(x)\n",
    "        x = self.conv1_bn(self.pool1(F.relu(self.conv1(x))))\n",
    "        x = self.conv2_bn(self.pool2(F.relu(self.conv2(x))))\n",
    "        x = self.conv3_bn(self.pool3(F.relu(self.conv3(x))))\n",
    "        x = self.pool4(F.relu(self.conv4(x)))\n",
    "        x = torch.flatten(x, 1) # flatten all dimensions except batch\n",
    "        x = self.fc(x)\n",
    "        return x\n",
    "\n",
    "\n",
    "model = Net()\n",
    "model = model.to(device)"
   ]
  },
  {
   "cell_type": "code",
   "execution_count": null,
   "metadata": {},
   "outputs": [],
   "source": [
    "model.eval()"
   ]
  },
  {
   "cell_type": "markdown",
   "metadata": {},
   "source": [
    "## Sloj po sloj!"
   ]
  },
  {
   "cell_type": "markdown",
   "metadata": {},
   "source": [
    "#### Prvi (1.) (konvolucijski)"
   ]
  },
  {
   "cell_type": "code",
   "execution_count": null,
   "metadata": {},
   "outputs": [],
   "source": [
    "def lucent_show_layer(layer, n_channels,\n",
    "                      param_f=None, transforms=None,\n",
    "                      optimizer=None, preprocess=True, image_size=128):\n",
    "    n_row = floor( sqrt( n_channels ) )\n",
    "    n_col = floor( sqrt( n_channels ) )\n",
    "    _, axs = plt.subplots(n_row, n_col, figsize=(17.55, 18))\n",
    "    axs = axs.flatten()\n",
    "    for ix, ax in zip(range(n_row*n_col), axs):\n",
    "        img = render.render_vis(model, f\"{layer}:{ix}\", param_f=param_f,\n",
    "                                transforms=transforms, preprocess=preprocess, progress=False, show_image=False)[0]\n",
    "        img = np.reshape(img, (image_size, image_size, 3))\n",
    "        ax.imshow(img)\n",
    "        ax.set_xticklabels([])\n",
    "        ax.set_yticklabels([])\n",
    "        ax.set_xticks([])\n",
    "        ax.set_yticks([])\n",
    "        ax.margins(x=0, y=0, tight=True)\n",
    "\n",
    "    plt.subplots_adjust(wspace=0, hspace=0)\n",
    "    plt.show()"
   ]
  },
  {
   "cell_type": "code",
   "execution_count": null,
   "metadata": {},
   "outputs": [],
   "source": [
    "lucent_show_layer('conv1', 9)"
   ]
  },
  {
   "cell_type": "markdown",
   "metadata": {},
   "source": [
    "#### Drugi (2.)"
   ]
  },
  {
   "cell_type": "code",
   "execution_count": null,
   "metadata": {},
   "outputs": [],
   "source": [
    "lucent_show_layer('conv2', 16)"
   ]
  },
  {
   "cell_type": "markdown",
   "metadata": {},
   "source": [
    "#### Treći (3.)"
   ]
  },
  {
   "cell_type": "code",
   "execution_count": null,
   "metadata": {},
   "outputs": [],
   "source": [
    "lucent_show_layer('conv3', 25)"
   ]
  },
  {
   "cell_type": "markdown",
   "metadata": {},
   "source": [
    "# Captum"
   ]
  },
  {
   "cell_type": "code",
   "execution_count": null,
   "metadata": {},
   "outputs": [],
   "source": [
    "!git clone https://github.com/pytorch/captum\n",
    "%cd captum\n",
    "!git checkout \"optim-wip\"\n",
    "!pip3 --quiet install -e .\n",
    "import sys\n",
    "sys.path.append('/content/captum')\n",
    "%cd ..\n"
   ]
  },
  {
   "cell_type": "code",
   "execution_count": null,
   "metadata": {},
   "outputs": [],
   "source": [
    "import captum.optim as optimviz\n",
    "import torchvision"
   ]
  },
  {
   "cell_type": "code",
   "execution_count": null,
   "metadata": {},
   "outputs": [],
   "source": [
    "from typing import Callable, Iterable, Optional"
   ]
  },
  {
   "cell_type": "code",
   "execution_count": null,
   "metadata": {},
   "outputs": [],
   "source": [
    "def vis_neuron_large(\n",
    "    # funkcija adaptirana iz:\n",
    "    # https://colab.research.google.com/drive/1Zv7w03hOHfBWaEDMpSR1MA4D6IpAwZln\n",
    "    model: torch.nn.Module, target: torch.nn.Module, channel: int\n",
    ") -> None:\n",
    "    image = optimviz.images.NaturalImage((640, 640)).to(device)\n",
    "    transforms = torch.nn.Sequential(\n",
    "        torch.nn.ReflectionPad2d(2),\n",
    "        optimviz.transforms.RandomSpatialJitter(8),\n",
    "        optimviz.transforms.RandomScale(scale=(2.15, 1.85, 2, 1.95, 2.05)),\n",
    "        torchvision.transforms.RandomRotation(degrees=(-15, 15)),\n",
    "        optimviz.transforms.RandomSpatialJitter(64),\n",
    "        optimviz.transforms.CenterCrop((640, 640)),\n",
    "    )\n",
    "    loss_fn = optimviz.loss.NeuronActivation(target, channel)\n",
    "    obj = optimviz.InputOptimization(model, loss_fn, image, transforms)\n",
    "    history = obj.optimize(optimviz.optimization.n_steps(512, False))\n",
    "    return image()"
   ]
  },
  {
   "cell_type": "code",
   "execution_count": null,
   "metadata": {},
   "outputs": [],
   "source": [
    "def visualize_layer_captum(layer, grid_dim):\n",
    "    n_row = grid_dim\n",
    "    n_col = grid_dim\n",
    "    _, axs = plt.subplots(n_row, n_col, figsize=(19.55, 20))\n",
    "    axs = axs.flatten()\n",
    "    for ix, ax in zip(range(n_row*n_col), axs):\n",
    "        img = vis_neuron_large(model, layer, ix)\n",
    "        img = img.permute(0, 2, 3, 1)\n",
    "        with torch.no_grad():\n",
    "            img = img.cpu().numpy()\n",
    "        img = img.reshape((640,640,3))\n",
    "        ax.imshow(img)\n",
    "        ax.set_xticklabels([])\n",
    "        ax.set_yticklabels([])\n",
    "        ax.set_xticks([])\n",
    "        ax.set_yticks([])\n",
    "        ax.margins(x=0, y=0, tight=True)\n",
    "\n",
    "\n",
    "    plt.subplots_adjust(wspace=0, hspace=0)\n",
    "    plt.show()"
   ]
  },
  {
   "cell_type": "code",
   "execution_count": null,
   "metadata": {},
   "outputs": [],
   "source": [
    "visualize_layer_captum(model.conv1, 3)"
   ]
  },
  {
   "cell_type": "code",
   "execution_count": null,
   "metadata": {},
   "outputs": [],
   "source": [
    "visualize_layer_captum(model.conv2, 4)"
   ]
  },
  {
   "cell_type": "code",
   "execution_count": null,
   "metadata": {},
   "outputs": [],
   "source": [
    "visualize_layer_captum(model.conv3, 5)"
   ]
  },
  {
   "cell_type": "code",
   "execution_count": null,
   "metadata": {},
   "outputs": [],
   "source": [
    "visualize_layer_captum(model.conv4, 6)"
   ]
  },
  {
   "cell_type": "code",
   "execution_count": null,
   "metadata": {},
   "outputs": [],
   "source": []
  }
 ],
 "metadata": {
  "accelerator": "GPU",
  "colab": {
   "name": "5 - ECCV16 Dataset - Lucent",
   "provenance": []
  },
  "kernelspec": {
   "display_name": "Python 3",
   "language": "python",
   "name": "python3"
  },
  "language_info": {
   "codemirror_mode": {
    "name": "ipython",
    "version": 3
   },
   "file_extension": ".py",
   "mimetype": "text/x-python",
   "name": "python",
   "nbconvert_exporter": "python",
   "pygments_lexer": "ipython3",
   "version": "3.6.9"
  }
 },
 "nbformat": 4,
 "nbformat_minor": 1
}
