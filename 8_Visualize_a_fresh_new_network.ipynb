{
 "cells": [
  {
   "cell_type": "markdown",
   "metadata": {},
   "source": [
    "# Vizualiziranje netrenirane mreže\n",
    "\n",
    "Ova bilježnica je tu jer su mi neki rezultati, well, bili _čudni_, odnosno činilo se da neuroni pokazuju više pravilnosti u checkpointu _prije treniranja_. Zato ovdje ide svježe-učitana mreža po skalpel, s težinama određenima s kojim već defaultnim \n",
    "\n",
    "In this notebook I'll just do some interpretability on a newly initialized network. Which, well, shouldn't really be possible, except insofar CNNs have some hellishly good inductive biases(???)."
   ]
  },
  {
   "cell_type": "markdown",
   "metadata": {},
   "source": [
    "## Definicije i importovi"
   ]
  },
  {
   "cell_type": "code",
   "execution_count": null,
   "metadata": {
    "colab": {
     "base_uri": "https://localhost:8080/"
    },
    "id": "Gfklqz8Xl2Cr",
    "outputId": "bdb2760f-c01b-407d-afbb-35ba45ab756e",
    "scrolled": true
   },
   "outputs": [],
   "source": [
    "pip install torch-lucent"
   ]
  },
  {
   "cell_type": "code",
   "execution_count": null,
   "metadata": {},
   "outputs": [],
   "source": [
    "from lucent.optvis.transform import pad, jitter, random_rotate, random_scale\n",
    "from lucent.optvis import render, param, transform, objectives\n",
    "from tqdm import tqdm"
   ]
  },
  {
   "cell_type": "code",
   "execution_count": null,
   "metadata": {
    "id": "l8nJovfjmTov"
   },
   "outputs": [],
   "source": [
    "import torch\n",
    "\n",
    "from lucent.optvis import render, param, transform, objectives\n",
    "\n",
    "device = torch.device(\"cuda:0\" if torch.cuda.is_available() else \"cpu\")"
   ]
  },
  {
   "cell_type": "code",
   "execution_count": null,
   "metadata": {},
   "outputs": [],
   "source": [
    "%pylab inline\n",
    "import matplotlib.pyplot as plt\n",
    "import matplotlib.image as mpimg\n"
   ]
  },
  {
   "cell_type": "code",
   "execution_count": null,
   "metadata": {
    "id": "xSzTWREboP_e"
   },
   "outputs": [],
   "source": [
    "import torch.nn as nn\n",
    "import torch.nn.functional as F\n",
    "\n",
    "class Net(nn.Module):\n",
    "    def __init__(self):\n",
    "        super().__init__()\n",
    "        self.bn0 = nn.BatchNorm2d(3)\n",
    "        self.conv1 = nn.Conv2d(3, 9, 3)\n",
    "        self.pool1 = nn.AvgPool2d(4, 4)\n",
    "        \n",
    "        self.conv1_bn = nn.BatchNorm2d(9)\n",
    "        self.conv2 = nn.Conv2d(9, 16, 3)\n",
    "        self.pool2 = nn.AvgPool2d(4, 4)\n",
    "        \n",
    "        self.conv2_bn = nn.BatchNorm2d(16)\n",
    "        self.conv3 = nn.Conv2d(16, 25, 3)\n",
    "        self.pool3 = nn.AvgPool2d(4, 4)\n",
    "        \n",
    "        self.conv3_bn = nn.BatchNorm2d(25)\n",
    "        self.conv4 = nn.Conv2d(25, 36, 3)\n",
    "        self.pool4 = nn.AvgPool2d(2 , 2)\n",
    "        \n",
    "        self.fc = nn.Linear(324, 4)\n",
    "\n",
    "    def forward(self, x):\n",
    "        x = self.bn0(x)\n",
    "        x = self.conv1_bn(self.pool1(F.relu(self.conv1(x))))\n",
    "        x = self.conv2_bn(self.pool2(F.relu(self.conv2(x))))\n",
    "        x = self.conv3_bn(self.pool3(F.relu(self.conv3(x))))\n",
    "        x = self.pool4(F.relu(self.conv4(x)))\n",
    "        x = torch.flatten(x, 1) # flatten all dimensions except batch\n",
    "        x = self.fc(x)\n",
    "        return x\n",
    "\n",
    "\n",
    "model = Net()\n",
    "model = model.to(device)"
   ]
  },
  {
   "cell_type": "code",
   "execution_count": null,
   "metadata": {},
   "outputs": [],
   "source": [
    "model.eval()"
   ]
  },
  {
   "cell_type": "markdown",
   "metadata": {},
   "source": [
    "## Sloj po sloj!"
   ]
  },
  {
   "cell_type": "markdown",
   "metadata": {},
   "source": [
    "#### Prvi (1.) (konvolucijski)"
   ]
  },
  {
   "cell_type": "code",
   "execution_count": null,
   "metadata": {},
   "outputs": [],
   "source": [
    "n_row = 3\n",
    "n_col = 3\n",
    "_, axs = plt.subplots(n_row, n_col, figsize=(14, 14))\n",
    "axs = axs.flatten()\n",
    "for ix, ax in tqdm(zip(range(n_row*n_col), axs)):\n",
    "  img = render.render_vis(model, f\"conv3:{ix}\", progress=False, show_image=False)[0]\n",
    "  #img = np.transpose(img, [0, 3, 2, 1])\n",
    "  img = np.reshape(img, (128, 128, 3))\n",
    "  ax.imshow(img)\n",
    "  ax.set_xticklabels([])\n",
    "  ax.set_yticklabels([])\n",
    "    \n",
    "plt.subplots_adjust(wspace=0, hspace=0)\n",
    "plt.show()"
   ]
  },
  {
   "cell_type": "markdown",
   "metadata": {},
   "source": [
    "#### Drugi (2.)"
   ]
  },
  {
   "cell_type": "code",
   "execution_count": null,
   "metadata": {},
   "outputs": [],
   "source": [
    "n_row = 4\n",
    "n_col = 4\n",
    "_, axs = plt.subplots(n_row, n_col, figsize=(14, 14))\n",
    "axs = axs.flatten()\n",
    "for ix, ax in tqdm(zip(range(n_row*n_col), axs)):\n",
    "  img = render.render_vis(model, f\"conv2:{ix}\", progress=False, show_image=False)[0]\n",
    "  #img = np.transpose(img, [0, 3, 2, 1])\n",
    "  img = np.reshape(img, (128, 128, 3))\n",
    "  ax.imshow(img)\n",
    "  ax.set_xticklabels([])\n",
    "  ax.set_yticklabels([])\n",
    "    \n",
    "plt.subplots_adjust(wspace=0, hspace=0)\n",
    "plt.show()"
   ]
  },
  {
   "cell_type": "markdown",
   "metadata": {},
   "source": [
    "#### Treći (3.)"
   ]
  },
  {
   "cell_type": "code",
   "execution_count": null,
   "metadata": {},
   "outputs": [],
   "source": [
    "n_row = 5\n",
    "n_col = 5\n",
    "_, axs = plt.subplots(n_row, n_col, figsize=(14, 14))\n",
    "axs = axs.flatten()\n",
    "for ix, ax in tqdm(zip(range(n_row*n_col), axs)):\n",
    "  img = render.render_vis(model, f\"conv3:{ix}\", progress=False, show_image=False)[0]\n",
    "  #img = np.transpose(img, [0, 3, 2, 1])\n",
    "  img = np.reshape(img, (128, 128, 3))\n",
    "  ax.imshow(img)\n",
    "  ax.set_xticklabels([])\n",
    "  ax.set_yticklabels([])\n",
    "    \n",
    "plt.subplots_adjust(wspace=0, hspace=0)\n",
    "plt.show()"
   ]
  },
  {
   "cell_type": "markdown",
   "metadata": {},
   "source": [
    "#### Četvrti (4.)"
   ]
  },
  {
   "cell_type": "code",
   "execution_count": null,
   "metadata": {},
   "outputs": [],
   "source": [
    "n_row = 6\n",
    "n_col = 6\n",
    "_, axs = plt.subplots(n_row, n_col, figsize=(14, 14))\n",
    "axs = axs.flatten()\n",
    "for ix, ax in tqdm(zip(range(n_row*n_col), axs)):\n",
    "  img = render.render_vis(model, f\"conv4:{ix}\", progress=False, show_image=False)[0]\n",
    "  #img = np.transpose(img, [0, 3, 2, 1])\n",
    "  img = np.reshape(img, (128, 128, 3))\n",
    "  ax.imshow(img)\n",
    "  ax.set_xticklabels([])\n",
    "  ax.set_yticklabels([])\n",
    "    \n",
    "plt.subplots_adjust(wspace=0, hspace=0)\n",
    "plt.show()"
   ]
  },
  {
   "cell_type": "markdown",
   "metadata": {},
   "source": [
    "# Captum (to the rescue?)"
   ]
  },
  {
   "cell_type": "code",
   "execution_count": null,
   "metadata": {},
   "outputs": [],
   "source": [
    "!git clone https://github.com/pytorch/captum\n",
    "%cd captum\n",
    "!git checkout \"optim-wip\"\n",
    "!pip3 install -e .\n",
    "import sys\n",
    "sys.path.append('/content/captum')\n",
    "%cd ..\n"
   ]
  },
  {
   "cell_type": "code",
   "execution_count": null,
   "metadata": {},
   "outputs": [],
   "source": [
    "import captum.optim as optimviz\n",
    "import torchvision"
   ]
  },
  {
   "cell_type": "code",
   "execution_count": null,
   "metadata": {},
   "outputs": [],
   "source": [
    "from typing import Callable, Iterable, Optional"
   ]
  },
  {
   "cell_type": "code",
   "execution_count": null,
   "metadata": {},
   "outputs": [],
   "source": [
    "def vis_neuron_large(\n",
    "    model: torch.nn.Module, target: torch.nn.Module, channel: int\n",
    ") -> None:\n",
    "    image = optimviz.images.NaturalImage((640, 640)).to(device)\n",
    "    transforms = torch.nn.Sequential(\n",
    "        torch.nn.ReflectionPad2d(2),\n",
    "        optimviz.transforms.RandomSpatialJitter(8),\n",
    "        optimviz.transforms.RandomScale(scale=(1.15, 0.85, 1, 0.95, 1.05)),\n",
    "        torchvision.transforms.RandomRotation(degrees=(-15, 15)),\n",
    "        optimviz.transforms.RandomSpatialJitter(16),\n",
    "        optimviz.transforms.CenterCrop((640, 640)),\n",
    "    )\n",
    "    loss_fn = optimviz.loss.NeuronActivation(target, channel)\n",
    "    obj = optimviz.InputOptimization(model, loss_fn, image, transforms)\n",
    "    history = obj.optimize(optimviz.optimization.n_steps(128, False))\n",
    "    return image()"
   ]
  },
  {
   "cell_type": "code",
   "execution_count": null,
   "metadata": {},
   "outputs": [],
   "source": [
    "n_row = 3\n",
    "n_col = 3\n",
    "_, axs = plt.subplots(n_row, n_col, figsize=(14, 14))\n",
    "axs = axs.flatten()\n",
    "for ix, ax in tqdm(zip(range(n_row*n_col), axs)):\n",
    "    img = vis_neuron_large(model, model.conv1, ix)\n",
    "    img = img.permute(0, 2, 3, 1)\n",
    "    with torch.no_grad():\n",
    "        img = img.cpu().numpy()\n",
    "    img = img.reshape((640,640,3))\n",
    "    ax.imshow(img)\n",
    "    ax.set_xticklabels([])\n",
    "    ax.set_yticklabels([])\n",
    "    ax.set_xticks([])\n",
    "    ax.set_yticks([])\n",
    "    ax.margins(x=0, y=0, tight=True)\n",
    "\n",
    "    \n",
    "plt.subplots_adjust(wspace=0, hspace=0)\n",
    "plt.show()"
   ]
  },
  {
   "cell_type": "code",
   "execution_count": null,
   "metadata": {},
   "outputs": [],
   "source": [
    "render.render_vis?"
   ]
  },
  {
   "cell_type": "code",
   "execution_count": null,
   "metadata": {},
   "outputs": [],
   "source": [
    "n_row = 4\n",
    "n_col = 4\n",
    "_, axs = plt.subplots(n_row, n_col, figsize=(14, 14))\n",
    "axs = axs.flatten()\n",
    "for ix, ax in tqdm(zip(range(n_row*n_col), axs)):\n",
    "    img = vis_neuron_large(model, model.conv2, ix)\n",
    "    img = img.permute(0, 2, 3, 1)\n",
    "    with torch.no_grad():\n",
    "        img = img.cpu().numpy()\n",
    "    img = img.reshape((640,640,3))\n",
    "    ax.imshow(img)\n",
    "    ax.set_xticklabels([])\n",
    "    ax.set_yticklabels([])\n",
    "    ax.set_xticks([])\n",
    "    ax.set_yticks([])\n",
    "    ax.margins(x=0, y=0, tight=True)\n",
    "\n",
    "    \n",
    "plt.subplots_adjust(wspace=0, hspace=0)\n",
    "plt.show()"
   ]
  },
  {
   "cell_type": "code",
   "execution_count": null,
   "metadata": {},
   "outputs": [],
   "source": [
    "n_row = 5\n",
    "n_col = 5\n",
    "_, axs = plt.subplots(n_row, n_col, figsize=(14, 14))\n",
    "axs = axs.flatten()\n",
    "for ix, ax in tqdm(zip(range(n_row*n_col), axs)):\n",
    "    img = vis_neuron_large(model, model.conv3, ix)\n",
    "    img = img.permute(0, 2, 3, 1)\n",
    "    with torch.no_grad():\n",
    "        img = img.cpu().numpy()\n",
    "    img = img.reshape((640,640,3))\n",
    "    ax.imshow(img)\n",
    "    ax.set_xticklabels([])\n",
    "    ax.set_yticklabels([])\n",
    "    ax.set_xticks([])\n",
    "    ax.set_yticks([])\n",
    "    ax.margins(x=0, y=0, tight=True)\n",
    "\n",
    "    \n",
    "plt.subplots_adjust(wspace=0, hspace=0)\n",
    "plt.show()"
   ]
  },
  {
   "cell_type": "code",
   "execution_count": null,
   "metadata": {},
   "outputs": [],
   "source": [
    "n_row = 6\n",
    "n_col = 6\n",
    "_, axs = plt.subplots(n_row, n_col, figsize=(14, 14))\n",
    "axs = axs.flatten()\n",
    "for ix, ax in tqdm(zip(range(n_row*n_col), axs)):\n",
    "    img = vis_neuron_large(model, model.conv4, ix)\n",
    "    img = img.permute(0, 2, 3, 1)\n",
    "    with torch.no_grad():\n",
    "        img = img.cpu().numpy()\n",
    "    img = img.reshape((640,640,3))\n",
    "    ax.imshow(img)\n",
    "    ax.set_xticklabels([])\n",
    "    ax.set_yticklabels([])\n",
    "    ax.set_xticks([])\n",
    "    ax.set_yticks([])\n",
    "    ax.margins(x=0, y=0, tight=True)\n",
    "\n",
    "    \n",
    "plt.subplots_adjust(wspace=0, hspace=0)\n",
    "plt.show()"
   ]
  },
  {
   "cell_type": "code",
   "execution_count": null,
   "metadata": {},
   "outputs": [],
   "source": []
  }
 ],
 "metadata": {
  "accelerator": "GPU",
  "colab": {
   "name": "5 - ECCV16 Dataset - Lucent",
   "provenance": []
  },
  "kernelspec": {
   "display_name": "Python 3",
   "language": "python",
   "name": "python3"
  },
  "language_info": {
   "codemirror_mode": {
    "name": "ipython",
    "version": 3
   },
   "file_extension": ".py",
   "mimetype": "text/x-python",
   "name": "python",
   "nbconvert_exporter": "python",
   "pygments_lexer": "ipython3",
   "version": "3.6.9"
  }
 },
 "nbformat": 4,
 "nbformat_minor": 1
}
