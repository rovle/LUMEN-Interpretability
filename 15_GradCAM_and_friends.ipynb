{
 "cells": [
  {
   "cell_type": "code",
   "execution_count": null,
   "id": "58bd6757",
   "metadata": {
    "scrolled": true
   },
   "outputs": [],
   "source": [
    "# https://github.com/jacobgil/pytorch-grad-cam\n",
    "!pip install --quiet grad-cam"
   ]
  },
  {
   "cell_type": "code",
   "execution_count": null,
   "id": "14bda82c",
   "metadata": {
    "scrolled": true
   },
   "outputs": [],
   "source": [
    "import matplotlib.pyplot as plt\n",
    "import numpy as np\n",
    "\n",
    "%matplotlib inline\n",
    "\n",
    "import torch\n",
    "import torchvision\n",
    "import torchvision.transforms as transforms\n",
    "import torchvision.transforms.functional as TF\n",
    "\n",
    "from pytorch_grad_cam import GradCAM, ScoreCAM, GradCAMPlusPlus, AblationCAM, XGradCAM, EigenCAM, FullGrad\n",
    "from pytorch_grad_cam.utils.model_targets import ClassifierOutputTarget\n",
    "from pytorch_grad_cam.utils.image import show_cam_on_image"
   ]
  },
  {
   "cell_type": "code",
   "execution_count": null,
   "id": "5c53fb2b",
   "metadata": {},
   "outputs": [],
   "source": [
    "from PIL import Image"
   ]
  },
  {
   "cell_type": "code",
   "execution_count": null,
   "id": "fecc8421",
   "metadata": {
    "scrolled": true
   },
   "outputs": [],
   "source": [
    "device = torch.device(\"cuda:0\" if torch.cuda.is_available() else \"cpu\")\n",
    "print(device)"
   ]
  },
  {
   "cell_type": "code",
   "execution_count": null,
   "id": "507b8c4c",
   "metadata": {
    "scrolled": true
   },
   "outputs": [],
   "source": [
    "!nvidia-smi"
   ]
  },
  {
   "cell_type": "code",
   "execution_count": null,
   "id": "06c50c77",
   "metadata": {
    "scrolled": true
   },
   "outputs": [],
   "source": [
    "transform = transforms.Compose([\n",
    "    transforms.ToTensor(),\n",
    "])\n",
    "\n",
    "train_data = torchvision.datasets.ImageFolder(root='dataset/train', transform=transform)\n",
    "test_data = torchvision.datasets.ImageFolder(root='dataset/test', transform=transform)\n",
    "\n",
    "train_loader = torch.utils.data.DataLoader(dataset=train_data, batch_size=4, shuffle=True, num_workers=8)\n",
    "test_loader = torch.utils.data.DataLoader(dataset=test_data, batch_size=4, shuffle=True, num_workers=4)"
   ]
  },
  {
   "cell_type": "code",
   "execution_count": null,
   "id": "bdc622f4",
   "metadata": {
    "scrolled": true
   },
   "outputs": [],
   "source": [
    "import torch.nn as nn\n",
    "import torch.nn.functional as F\n",
    "\n",
    "class LongcatNet(nn.Module):\n",
    "    def __init__(self):\n",
    "        super().__init__()\n",
    "        self.bn1 = nn.BatchNorm2d(3)\n",
    "        self.conv1 = nn.Conv2d(3, 9, 3)\n",
    "        self.pool1 = nn.MaxPool2d(2, 2)\n",
    "        \n",
    "        self.conv2_bn = nn.BatchNorm2d(9)\n",
    "        self.conv2 = nn.Conv2d(9, 16, 3)\n",
    "        self.pool2 = nn.MaxPool2d(2, 2)\n",
    "        \n",
    "        self.conv3_bn = nn.BatchNorm2d(16)\n",
    "        self.conv3 = nn.Conv2d(16, 25, 3)\n",
    "        self.pool3 = nn.MaxPool2d(2, 2)\n",
    "        \n",
    "        self.conv4_bn = nn.BatchNorm2d(25)\n",
    "        self.conv4 = nn.Conv2d(25, 36, 3)\n",
    "        self.pool4 = nn.MaxPool2d(2, 2)\n",
    "        \n",
    "        self.conv5_bn = nn.BatchNorm2d(36)\n",
    "        self.conv5 = nn.Conv2d(36, 36, 3)\n",
    "  \n",
    "        self.conv6_bn = nn.BatchNorm2d(36)\n",
    "        self.conv6 = nn.Conv2d(36, 49, 3)\n",
    "\n",
    "        self.conv7_bn = nn.BatchNorm2d(49)\n",
    "        self.conv7 = nn.Conv2d(49, 49, 3)\n",
    "        \n",
    "        self.conv8_bn = nn.BatchNorm2d(49)\n",
    "        self.conv8 = nn.Conv2d(49, 49, 3)\n",
    "        \n",
    "        self.conv9_bn = nn.BatchNorm2d(49)\n",
    "        self.conv9 = nn.Conv2d(49, 49, 3)\n",
    "        self.pool9 = nn.MaxPool2d(2, 2)\n",
    "\n",
    "        self.conv10_bn = nn.BatchNorm2d(49)\n",
    "        self.conv10 = nn.Conv2d(49, 49, 3)\n",
    "        self.pool10 = nn.MaxPool2d(2, 2)\n",
    "\n",
    "        self.fc = nn.Linear(1764, 4)\n",
    "\n",
    "    def forward(self, x):\n",
    "        x = self.bn1(x)\n",
    "        x = self.conv2_bn(self.pool1(F.relu(self.conv1(x))))\n",
    "        x = self.conv3_bn(self.pool2(F.relu(self.conv2(x))))\n",
    "        x = self.conv4_bn(self.pool3(F.relu(self.conv3(x))))\n",
    "        x = self.conv5_bn(self.pool4(F.relu(self.conv4(x))))\n",
    "\n",
    "        x = self.conv6_bn(F.relu(self.conv5(x)))  \n",
    "        x = self.conv7_bn(F.relu(self.conv6(x)))\n",
    "        x = self.conv8_bn(F.relu(self.conv7(x)))\n",
    "        x = self.conv9_bn(F.relu(self.conv8(x)))\n",
    "        \n",
    "        \n",
    "        x = self.conv10_bn(self.pool9(F.relu(self.conv9(x))))\n",
    "        x = self.pool10(F.relu(self.conv10(x)))\n",
    "        \n",
    "        x = torch.flatten(x, 1) # flatten all dimensions except batch\n",
    "        \n",
    "        x = self.fc(x)\n",
    "        return x"
   ]
  },
  {
   "cell_type": "code",
   "execution_count": null,
   "id": "6918b2cf",
   "metadata": {
    "scrolled": true
   },
   "outputs": [],
   "source": [
    "longcat = LongcatNet()\n",
    "longcat = longcat.to(device)\n",
    "\n",
    "longcat.load_state_dict(torch.load('saved_models/longcat/epoch_7_batch_5000.pth', map_location=device))\n",
    "longcat.to(device).eval()"
   ]
  },
  {
   "cell_type": "code",
   "execution_count": null,
   "id": "0f2a1cd4",
   "metadata": {},
   "outputs": [],
   "source": [
    "target_layers = [longcat.conv10]"
   ]
  },
  {
   "cell_type": "code",
   "execution_count": null,
   "id": "180605ef",
   "metadata": {},
   "outputs": [],
   "source": [
    "Image.fromarray(visualization)"
   ]
  },
  {
   "cell_type": "code",
   "execution_count": null,
   "id": "93de3517",
   "metadata": {},
   "outputs": [],
   "source": [
    "plt.imshow(visualization)"
   ]
  },
  {
   "cell_type": "code",
   "execution_count": null,
   "id": "44ac63db",
   "metadata": {},
   "outputs": [],
   "source": [
    "!ls dataset/test/LasVegas | head -20"
   ]
  },
  {
   "cell_type": "code",
   "execution_count": null,
   "id": "50adb635",
   "metadata": {},
   "outputs": [],
   "source": [
    "images = ['dataset/test/LasVegas/0000075_0000013_0000001_0000004.jpg',\n",
    "          'dataset/test/LasVegas/0000075_0000077_0000002_0000022.jpg']\n",
    "\n",
    "\n",
    "n_row = 2\n",
    "n_col = 1\n",
    "fig, axs = plt.subplots(n_row, n_col, figsize=(9.55, 10))\n",
    "axs = axs.flatten()\n",
    "\n",
    "for ix, image in enumerate(images):\n",
    "    image = Image.open(image)\n",
    "    image = transform(image)\n",
    "    image = torch.reshape(image, (1, 3, 640, 640))\n",
    "    \n",
    "    cam = GradCAM(model=longcat, target_layers=target_layers, use_cuda=True)\n",
    "    \n",
    "    targets = [ClassifierOutputTarget(0)]\n",
    "    grayscale_cam = cam(input_tensor=image, targets=targets)\n",
    "    \n",
    "    image = image.permute(0, 2, 3, 1)\n",
    "    image = torch.reshape(image, (640, 640, 3))\n",
    "    \n",
    "    grayscale_cam = grayscale_cam[0, :]\n",
    "    \n",
    "    visualization = show_cam_on_image(image.numpy(), grayscale_cam, use_rgb=True)\n",
    "    \n",
    "    axs[ix].imshow(visualization)\n",
    "    axs[ix].set_xticklabels([])\n",
    "    axs[ix].set_yticklabels([])\n",
    "    axs[ix].set_xticks([])\n",
    "    axs[ix].set_yticks([])\n",
    "    axs[ix].margins(x=0, y=0, tight=True)\n",
    "\n",
    "\n",
    "plt.subplots_adjust(wspace=0, hspace=0)\n",
    "plt.axis('off')\n",
    "plt.show()"
   ]
  },
  {
   "cell_type": "code",
   "execution_count": null,
   "id": "d296a21d",
   "metadata": {},
   "outputs": [],
   "source": [
    "n_row = 2\n",
    "n_col = 2\n",
    "fig, axs = plt.subplots(n_row, n_col, figsize=(9.55, 10))\n",
    "axs = axs.flatten()\n",
    "\n",
    "for ix, image in enumerate(images):\n",
    "    image = torch.reshape(image, (1, 3, 640, 640))\n",
    "    \n",
    "    cam = GradCAM(model=longcat, target_layers=target_layers, use_cuda=True)\n",
    "    \n",
    "    targets = [ClassifierOutputTarget(1)]\n",
    "    grayscale_cam = cam(input_tensor=image, targets=targets)\n",
    "    \n",
    "    image = image.permute(0, 2, 3, 1)\n",
    "    image = torch.reshape(image, (640, 640, 3))\n",
    "    \n",
    "    grayscale_cam = grayscale_cam[0, :]\n",
    "    \n",
    "    visualization = show_cam_on_image(image.numpy(), grayscale_cam, use_rgb=True)\n",
    "    \n",
    "    axs[ix].imshow(visualization)\n",
    "    axs[ix].set_xticklabels([])\n",
    "    axs[ix].set_yticklabels([])\n",
    "    axs[ix].set_xticks([])\n",
    "    axs[ix].set_yticks([])\n",
    "    axs[ix].margins(x=0, y=0, tight=True)\n",
    "\n",
    "\n",
    "plt.subplots_adjust(wspace=0, hspace=0)\n",
    "plt.axis('off')\n",
    "plt.show()"
   ]
  },
  {
   "cell_type": "code",
   "execution_count": null,
   "id": "cf821ab2",
   "metadata": {},
   "outputs": [],
   "source": []
  },
  {
   "cell_type": "code",
   "execution_count": null,
   "id": "48e901cc",
   "metadata": {},
   "outputs": [],
   "source": [
    "plt.imshow(grayscale_cam)\n",
    "plt.colorbar()\n",
    "plt.legend(\"on\")"
   ]
  },
  {
   "cell_type": "code",
   "execution_count": null,
   "id": "817e580d",
   "metadata": {},
   "outputs": [],
   "source": [
    "tfms = transforms.Compose([\n",
    "        torchvision.transforms.ToTensor(),\n",
    "])"
   ]
  },
  {
   "cell_type": "code",
   "execution_count": null,
   "id": "92d221fb",
   "metadata": {},
   "outputs": [],
   "source": [
    "model = torch.hub.load('pytorch/vision:v0.10.0', 'googlenet', pretrained=True)\n",
    "model.load_state_dict(torch.load('saved_models/inception/epoch_7_batch_5000.pth', map_location=device))\n",
    "model.to(device).eval()"
   ]
  },
  {
   "cell_type": "code",
   "execution_count": null,
   "id": "3a780f06",
   "metadata": {},
   "outputs": [],
   "source": [
    "class_codes = {\n",
    "    'Amsterdam' : 0,\n",
    "    'Firenca' : 1,\n",
    "    'LasVegas' : 2,\n",
    "    'NYC' : 3\n",
    "}\n",
    "from PIL import Image\n",
    "import os\n",
    "from tqdm import tqdm\n",
    "\n",
    "def get_classifications(source, target):\n",
    "    \"\"\"\n",
    "    Grozan i neefikasan način za napraviti ovo. Ali ovo pišem u 04:07, i nekada\n",
    "    čovjek nadomjesti mentalnu energiju viškom računalne.\n",
    "    \"\"\"\n",
    "    filenames = []\n",
    "    files = os.listdir(f'dataset/test/{source}')[:5000]\n",
    "    for fname in tqdm(files):\n",
    "        if fname[-1] == 't':\n",
    "            continue\n",
    "        img = Image.open(f'dataset/test/{source}/' + fname)\n",
    "        img = tfms(img)\n",
    "        img = torch.reshape(img, (1, 3, 640, 640))\n",
    "        outputs = longcat(img.cuda())\n",
    "        _, predicted = torch.max(outputs, 1)\n",
    "        if predicted[0] == class_codes[target]:\n",
    "            filenames.append(fname)\n",
    "    return filenames\n",
    "        "
   ]
  },
  {
   "cell_type": "code",
   "execution_count": null,
   "id": "b0f2dee4",
   "metadata": {},
   "outputs": [],
   "source": [
    "nyc_to_nyc = get_classifications('NYC', 'NYC')"
   ]
  },
  {
   "cell_type": "code",
   "execution_count": null,
   "id": "c3c9e0b3",
   "metadata": {},
   "outputs": [],
   "source": [
    "len(nyc_to_nyc)"
   ]
  },
  {
   "cell_type": "code",
   "execution_count": null,
   "id": "4e3ccff6",
   "metadata": {},
   "outputs": [],
   "source": [
    "nyc_to_lv = get_classifications('NYC', 'LasVegas')"
   ]
  },
  {
   "cell_type": "code",
   "execution_count": null,
   "id": "3db06f1f",
   "metadata": {},
   "outputs": [],
   "source": [
    "len(nyc_to_lv)"
   ]
  },
  {
   "cell_type": "code",
   "execution_count": null,
   "id": "59eb2394",
   "metadata": {},
   "outputs": [],
   "source": []
  }
 ],
 "metadata": {
  "kernelspec": {
   "display_name": "Python 3",
   "language": "python",
   "name": "python3"
  },
  "language_info": {
   "codemirror_mode": {
    "name": "ipython",
    "version": 3
   },
   "file_extension": ".py",
   "mimetype": "text/x-python",
   "name": "python",
   "nbconvert_exporter": "python",
   "pygments_lexer": "ipython3",
   "version": "3.6.9"
  }
 },
 "nbformat": 4,
 "nbformat_minor": 5
}
