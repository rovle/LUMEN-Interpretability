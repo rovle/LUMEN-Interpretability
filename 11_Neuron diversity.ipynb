{
 "cells": [
  {
   "cell_type": "markdown",
   "metadata": {},
   "source": [
    "# Vizualizacija neurona u kitty mreži\n",
    "\n"
   ]
  },
  {
   "cell_type": "markdown",
   "metadata": {},
   "source": [
    "### Definicije i importovi"
   ]
  },
  {
   "cell_type": "code",
   "execution_count": null,
   "metadata": {
    "colab": {
     "base_uri": "https://localhost:8080/"
    },
    "id": "Gfklqz8Xl2Cr",
    "outputId": "bdb2760f-c01b-407d-afbb-35ba45ab756e"
   },
   "outputs": [],
   "source": [
    "pip install --quiet torch-lucent"
   ]
  },
  {
   "cell_type": "code",
   "execution_count": null,
   "metadata": {},
   "outputs": [],
   "source": [
    "from lucent.optvis.transform import pad, jitter, random_rotate, random_scale\n",
    "from lucent.optvis import render, param, transform, objectives"
   ]
  },
  {
   "cell_type": "code",
   "execution_count": null,
   "metadata": {
    "id": "l8nJovfjmTov"
   },
   "outputs": [],
   "source": [
    "import torch\n",
    "\n",
    "from lucent.optvis import render, param, transform, objectives\n",
    "\n",
    "device = torch.device(\"cuda:0\" if torch.cuda.is_available() else \"cpu\")"
   ]
  },
  {
   "cell_type": "code",
   "execution_count": null,
   "metadata": {
    "id": "xSzTWREboP_e"
   },
   "outputs": [],
   "source": [
    "import torch.nn as nn\n",
    "import torch.nn.functional as F\n",
    "\n",
    "class KittyNet(nn.Module):\n",
    "    def __init__(self):\n",
    "        super().__init__()\n",
    "        self.bn0 = nn.BatchNorm2d(3)\n",
    "        self.conv1 = nn.Conv2d(3, 9, 3)\n",
    "        self.pool1 = nn.AvgPool2d(4, 4)\n",
    "        \n",
    "        self.conv1_bn = nn.BatchNorm2d(9)\n",
    "        self.conv2 = nn.Conv2d(9, 16, 3)\n",
    "        self.pool2 = nn.AvgPool2d(4, 4)\n",
    "        \n",
    "        self.conv2_bn = nn.BatchNorm2d(16)\n",
    "        self.conv3 = nn.Conv2d(16, 25, 3)\n",
    "        self.pool3 = nn.AvgPool2d(4, 4)\n",
    "        \n",
    "        self.conv3_bn = nn.BatchNorm2d(25)\n",
    "        self.conv4 = nn.Conv2d(25, 36, 3)\n",
    "        self.pool4 = nn.AvgPool2d(2 , 2)\n",
    "        \n",
    "        self.fc = nn.Linear(324, 4)\n",
    "\n",
    "    def forward(self, x):\n",
    "        x = self.bn0(x)\n",
    "        x = self.conv1_bn(self.pool1(F.relu(self.conv1(x))))\n",
    "        x = self.conv2_bn(self.pool2(F.relu(self.conv2(x))))\n",
    "        x = self.conv3_bn(self.pool3(F.relu(self.conv3(x))))\n",
    "        x = self.pool4(F.relu(self.conv4(x)))\n",
    "        x = torch.flatten(x, 1) # flatten all dimensions except batch\n",
    "        x = self.fc(x)\n",
    "        return x\n",
    "    \n",
    "class LongcatNet(nn.Module):\n",
    "    def __init__(self):\n",
    "        super().__init__()\n",
    "        self.bn1 = nn.BatchNorm2d(3)\n",
    "        self.conv1 = nn.Conv2d(3, 9, 3)\n",
    "        self.pool1 = nn.MaxPool2d(2, 2)\n",
    "        \n",
    "        self.conv2_bn = nn.BatchNorm2d(9)\n",
    "        self.conv2 = nn.Conv2d(9, 16, 3)\n",
    "        self.pool2 = nn.MaxPool2d(2, 2)\n",
    "        \n",
    "        self.conv3_bn = nn.BatchNorm2d(16)\n",
    "        self.conv3 = nn.Conv2d(16, 25, 3)\n",
    "        self.pool3 = nn.MaxPool2d(2, 2)\n",
    "        \n",
    "        self.conv4_bn = nn.BatchNorm2d(25)\n",
    "        self.conv4 = nn.Conv2d(25, 36, 3)\n",
    "        self.pool4 = nn.MaxPool2d(2, 2)\n",
    "        \n",
    "        self.conv5_bn = nn.BatchNorm2d(36)\n",
    "        self.conv5 = nn.Conv2d(36, 36, 3)\n",
    "  \n",
    "        self.conv6_bn = nn.BatchNorm2d(36)\n",
    "        self.conv6 = nn.Conv2d(36, 49, 3)\n",
    "\n",
    "        self.conv7_bn = nn.BatchNorm2d(49)\n",
    "        self.conv7 = nn.Conv2d(49, 49, 3)\n",
    "        \n",
    "        self.conv8_bn = nn.BatchNorm2d(49)\n",
    "        self.conv8 = nn.Conv2d(49, 49, 3)\n",
    "        \n",
    "        self.conv9_bn = nn.BatchNorm2d(49)\n",
    "        self.conv9 = nn.Conv2d(49, 49, 3)\n",
    "        self.pool9 = nn.MaxPool2d(2, 2)\n",
    "\n",
    "        self.conv10_bn = nn.BatchNorm2d(49)\n",
    "        self.conv10 = nn.Conv2d(49, 49, 3)\n",
    "        self.pool10 = nn.MaxPool2d(2, 2)\n",
    "\n",
    "        self.fc = nn.Linear(1764, 4)\n",
    "\n",
    "    def forward(self, x):\n",
    "        x = self.bn1(x)\n",
    "        x = self.conv2_bn(self.pool1(F.relu(self.conv1(x))))\n",
    "        x = self.conv3_bn(self.pool2(F.relu(self.conv2(x))))\n",
    "        x = self.conv4_bn(self.pool3(F.relu(self.conv3(x))))\n",
    "        x = self.conv5_bn(self.pool4(F.relu(self.conv4(x))))\n",
    "\n",
    "        x = self.conv6_bn(F.relu(self.conv5(x)))  \n",
    "        x = self.conv7_bn(F.relu(self.conv6(x)))\n",
    "        x = self.conv8_bn(F.relu(self.conv7(x)))\n",
    "        x = self.conv9_bn(F.relu(self.conv8(x)))\n",
    "        \n",
    "        \n",
    "        x = self.conv10_bn(self.pool9(F.relu(self.conv9(x))))\n",
    "        x = self.pool10(F.relu(self.conv10(x)))\n",
    "        \n",
    "        x = torch.flatten(x, 1) # flatten all dimensions except batch\n",
    "        \n",
    "        x = self.fc(x)\n",
    "        return x"
   ]
  },
  {
   "cell_type": "code",
   "execution_count": null,
   "metadata": {
    "colab": {
     "base_uri": "https://localhost:8080/"
    },
    "id": "xKyKE7EaoQ0D",
    "outputId": "95ab6918-15bc-4e06-b6cf-e49c97258730"
   },
   "outputs": [],
   "source": [
    "kitty = KittyNet()\n",
    "longcat = LongcatNet()\n",
    "inception = torch.hub.load('pytorch/vision:v0.10.0', 'googlenet', pretrained=True)\n",
    "\n",
    "\n",
    "kitty.load_state_dict(torch.load('saved_models/kitty/epoch_7_batch_5000.pth', map_location=device))\n",
    "longcat.load_state_dict(torch.load('saved_models/longcat/epoch_7_batch_5000.pth', map_location=device))\n",
    "inception.load_state_dict(torch.load('saved_models/inception/epoch_7_batch_5000.pth', map_location=device))"
   ]
  },
  {
   "cell_type": "code",
   "execution_count": null,
   "metadata": {
    "colab": {
     "base_uri": "https://localhost:8080/"
    },
    "id": "jW-DtPe8oY3M",
    "outputId": "5e83aa8c-7428-4ad3-d2e3-aef7e7e05879"
   },
   "outputs": [],
   "source": [
    "kitty.to(device).eval()\n",
    "longcat.to(device).eval()\n",
    "inception.to(device).eval()"
   ]
  },
  {
   "cell_type": "code",
   "execution_count": null,
   "metadata": {},
   "outputs": [],
   "source": [
    "%pylab inline\n",
    "import matplotlib.pyplot as plt\n",
    "import matplotlib.image as mpimg\n"
   ]
  },
  {
   "cell_type": "code",
   "execution_count": null,
   "metadata": {},
   "outputs": [],
   "source": [
    "def lucent_show_layer(model, layer, grid_dim,\n",
    "                      param_f=None, transforms=None,\n",
    "                      optimizer=None, image_size=128):\n",
    "    n_row = grid_dim\n",
    "    n_col = grid_dim\n",
    "    _, axs = plt.subplots(n_row, n_col, figsize=(19.55, 20))\n",
    "    axs = axs.flatten()\n",
    "    for ix, ax in zip(range(n_row*n_col), axs):\n",
    "        img = render.render_vis(model, f\"{layer}:{ix}\", param_f=param_f,\n",
    "                                transforms=transforms, progress=False, show_image=False)[0]\n",
    "        img = np.reshape(img, (image_size, image_size, 3))\n",
    "        ax.imshow(img)\n",
    "        ax.set_xticklabels([])\n",
    "        ax.set_yticklabels([])\n",
    "        ax.set_xticks([])\n",
    "        ax.set_yticks([])\n",
    "        ax.margins(x=0, y=0, tight=True)\n",
    "\n",
    "    plt.subplots_adjust(wspace=0, hspace=0)\n",
    "    plt.show()"
   ]
  },
  {
   "cell_type": "code",
   "execution_count": null,
   "metadata": {},
   "outputs": [],
   "source": []
  },
  {
   "cell_type": "markdown",
   "metadata": {},
   "source": [
    "## Različiti inputi\n",
    "\n",
    "Prikazujemo razlličite inpute koji jako aktiviraju određeni neuron."
   ]
  },
  {
   "cell_type": "markdown",
   "metadata": {},
   "source": [
    "## Kitty primjeri"
   ]
  },
  {
   "cell_type": "code",
   "execution_count": null,
   "metadata": {},
   "outputs": [],
   "source": []
  },
  {
   "cell_type": "code",
   "execution_count": null,
   "metadata": {},
   "outputs": [],
   "source": [
    "batch_param_f = lambda: param.image(128, batch=4)"
   ]
  },
  {
   "cell_type": "code",
   "execution_count": null,
   "metadata": {},
   "outputs": [],
   "source": [
    "obj = objectives.channel(\"conv1\", 0) - 5e1 * objectives.diversity(\"conv1\") # here we use a higher weight on the diversity term\n",
    "\n",
    "_ = render.render_vis(kitty, obj, batch_param_f, show_inline=True)"
   ]
  },
  {
   "cell_type": "code",
   "execution_count": null,
   "metadata": {},
   "outputs": [],
   "source": [
    "obj = objectives.channel(\"conv2\", 0) - 1e2 * objectives.diversity(\"conv2\") # here we use a higher weight on the diversity term\n",
    "\n",
    "_ = render.render_vis(kitty, obj, batch_param_f, show_inline=True)"
   ]
  },
  {
   "cell_type": "code",
   "execution_count": null,
   "metadata": {},
   "outputs": [],
   "source": [
    "obj = objectives.channel(\"conv3\", 0) - 1e3 * objectives.diversity(\"conv3\") # here we use a higher weight on the diversity term\n",
    "\n",
    "_ = render.render_vis(kitty, obj, batch_param_f, show_inline=True)"
   ]
  },
  {
   "cell_type": "markdown",
   "metadata": {},
   "source": [
    "### Longcat primjeri"
   ]
  },
  {
   "cell_type": "code",
   "execution_count": null,
   "metadata": {},
   "outputs": [],
   "source": [
    "obj = objectives.channel(\"conv1\", 0) - 1e2 * objectives.diversity(\"conv1\") # here we use a higher weight on the diversity term\n",
    "\n",
    "_ = render.render_vis(longcat, obj, batch_param_f, show_inline=True)"
   ]
  },
  {
   "cell_type": "code",
   "execution_count": null,
   "metadata": {},
   "outputs": [],
   "source": [
    "obj = objectives.channel(\"conv2\", 2) - 1e3 * objectives.diversity(\"conv2\") # here we use a higher weight on the diversity term\n",
    "\n",
    "_ = render.render_vis(longcat, obj, batch_param_f, show_inline=True)"
   ]
  },
  {
   "cell_type": "code",
   "execution_count": null,
   "metadata": {},
   "outputs": [],
   "source": [
    "obj = objectives.channel(\"conv3\", 2) - 1e3 * objectives.diversity(\"conv3\") # here we use a higher weight on the diversity term\n",
    "\n",
    "_ = render.render_vis(longcat, obj, batch_param_f, show_inline=True)"
   ]
  },
  {
   "cell_type": "code",
   "execution_count": null,
   "metadata": {},
   "outputs": [],
   "source": [
    "obj = objectives.channel(\"conv4\", 2) - 1e3 * objectives.diversity(\"conv4\") # here we use a higher weight on the diversity term\n",
    "\n",
    "_ = render.render_vis(longcat, obj, batch_param_f, show_inline=True)"
   ]
  },
  {
   "cell_type": "code",
   "execution_count": null,
   "metadata": {},
   "outputs": [],
   "source": [
    "obj = objectives.channel(\"conv5\", 0) - 1e3 * objectives.diversity(\"conv5\") # here we use a higher weight on the diversity term\n",
    "\n",
    "_ = render.render_vis(longcat, obj, batch_param_f, show_inline=True)"
   ]
  },
  {
   "cell_type": "code",
   "execution_count": null,
   "metadata": {},
   "outputs": [],
   "source": [
    "obj = objectives.channel(\"conv6\", 0) - 1e3 * objectives.diversity(\"conv6\") # here we use a higher weight on the diversity term\n",
    "\n",
    "_ = render.render_vis(longcat, obj, batch_param_f, show_inline=True)"
   ]
  },
  {
   "cell_type": "code",
   "execution_count": null,
   "metadata": {},
   "outputs": [],
   "source": [
    "obj = objectives.channel(\"conv7\", 1) - 1e3 * objectives.diversity(\"conv7\") # here we use a higher weight on the diversity term\n",
    "\n",
    "_ = render.render_vis(longcat, obj, batch_param_f, show_inline=True)"
   ]
  },
  {
   "cell_type": "code",
   "execution_count": null,
   "metadata": {},
   "outputs": [],
   "source": [
    "obj = objectives.channel(\"conv8\", 1) - 1e3 * objectives.diversity(\"conv8\") # here we use a higher weight on the diversity term\n",
    "\n",
    "_ = render.render_vis(longcat, obj, batch_param_f, show_inline=True)"
   ]
  },
  {
   "cell_type": "code",
   "execution_count": null,
   "metadata": {},
   "outputs": [],
   "source": [
    "obj = objectives.channel(\"conv9\", 1) - 5e2 * objectives.diversity(\"conv9\") # here we use a higher weight on the diversity term\n",
    "\n",
    "_ = render.render_vis(longcat, obj, batch_param_f, show_inline=True)"
   ]
  },
  {
   "cell_type": "markdown",
   "metadata": {},
   "source": [
    "### Inception"
   ]
  },
  {
   "cell_type": "code",
   "execution_count": null,
   "metadata": {},
   "outputs": [],
   "source": [
    "batch_param_f = lambda: param.image(256, fft=True, batch=4)\n",
    "\n",
    "obj = objectives.channel(\"inception4a\", 97) - 1e2 * objectives.diversity(\"inception4a\") # here we use a higher weight on the diversity term\n",
    "\n",
    "_ = render.render_vis(inception, obj, batch_param_f, show_inline=True)"
   ]
  },
  {
   "cell_type": "code",
   "execution_count": null,
   "metadata": {},
   "outputs": [],
   "source": [
    "batch_param_f = lambda: param.image(256, fft=True, batch=4)\n",
    "\n",
    "obj = objectives.channel(\"inception4a\", 98) - 1e2 * objectives.diversity(\"inception4a\") # here we use a higher weight on the diversity term\n",
    "\n",
    "_ = render.render_vis(inception, obj, batch_param_f, show_inline=True)"
   ]
  },
  {
   "cell_type": "code",
   "execution_count": null,
   "metadata": {},
   "outputs": [],
   "source": [
    "batch_param_f = lambda: param.image(256, fft=True, batch=4)\n",
    "\n",
    "obj = objectives.channel(\"inception4b\", 98) - 1e2 * objectives.diversity(\"inception4a\") # here we use a higher weight on the diversity term\n",
    "\n",
    "_ = render.render_vis(inception, obj, batch_param_f, show_inline=True)"
   ]
  },
  {
   "cell_type": "code",
   "execution_count": null,
   "metadata": {},
   "outputs": [],
   "source": [
    "batch_param_f = lambda: param.image(256, fft=True, decorrelate=True, batch=4)\n",
    "\n",
    "obj = objectives.channel(\"inception5b\", 56) + objectives.channel(\"inception5b\", 55) - 1e5 * objectives.diversity(\"inception5b\") # here we use a higher weight on the diversity term\n",
    "\n",
    "_ = render.render_vis(inception, obj, batch_param_f, show_inline=True)"
   ]
  },
  {
   "cell_type": "code",
   "execution_count": null,
   "metadata": {},
   "outputs": [],
   "source": []
  }
 ],
 "metadata": {
  "accelerator": "GPU",
  "colab": {
   "name": "5 - ECCV16 Dataset - Lucent",
   "provenance": []
  },
  "kernelspec": {
   "display_name": "Python 3",
   "language": "python",
   "name": "python3"
  },
  "language_info": {
   "codemirror_mode": {
    "name": "ipython",
    "version": 3
   },
   "file_extension": ".py",
   "mimetype": "text/x-python",
   "name": "python",
   "nbconvert_exporter": "python",
   "pygments_lexer": "ipython3",
   "version": "3.6.9"
  }
 },
 "nbformat": 4,
 "nbformat_minor": 1
}
