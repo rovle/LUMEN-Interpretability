{
 "cells": [
  {
   "cell_type": "code",
   "execution_count": null,
   "metadata": {
    "colab": {
     "base_uri": "https://localhost:8080/"
    },
    "id": "Gfklqz8Xl2Cr",
    "outputId": "bdb2760f-c01b-407d-afbb-35ba45ab756e",
    "scrolled": true
   },
   "outputs": [],
   "source": [
    "pip install torch-lucent"
   ]
  },
  {
   "cell_type": "code",
   "execution_count": null,
   "metadata": {},
   "outputs": [],
   "source": [
    "from lucent.optvis.transform import pad, jitter, random_rotate, random_scale\n",
    "from lucent.optvis import render, param, transform, objectives"
   ]
  },
  {
   "cell_type": "code",
   "execution_count": null,
   "metadata": {
    "id": "l8nJovfjmTov"
   },
   "outputs": [],
   "source": [
    "import torch\n",
    "\n",
    "from lucent.optvis import render, param, transform, objectives\n",
    "\n",
    "device = torch.device(\"cuda:0\" if torch.cuda.is_available() else \"cpu\")"
   ]
  },
  {
   "cell_type": "code",
   "execution_count": null,
   "metadata": {},
   "outputs": [],
   "source": []
  },
  {
   "cell_type": "code",
   "execution_count": null,
   "metadata": {
    "id": "xSzTWREboP_e"
   },
   "outputs": [],
   "source": [
    "import torch.nn as nn\n",
    "import torch.nn.functional as F\n",
    "\n",
    "class Net(nn.Module):\n",
    "    def __init__(self):\n",
    "        super().__init__()\n",
    "        self.bn0 = nn.BatchNorm2d(3)\n",
    "        self.conv1 = nn.Conv2d(3, 32, 3)\n",
    "        self.pool = nn.AvgPool1d(4, 4)\n",
    "        self.conv1_bn = nn.BatchNorm2d(32)\n",
    "        self.conv2 = nn.Conv2d(32, 64, 3)\n",
    "        self.pool = nn.AvgPool2d(4, 4)\n",
    "        self.conv2_bn = nn.BatchNorm2d(64)\n",
    "        self.conv3 = nn.Conv2d(64, 64, 3)\n",
    "        self.pool = nn.AvgPool2d(4, 4)\n",
    "        self.conv3_bn = nn.BatchNorm2d(64)\n",
    "        self.conv4 = nn.Conv2d(64, 64, 3)\n",
    "        self.pool = nn.AvgPool2d(4, 4)\n",
    "        self.fc = nn.Linear(64, 4)\n",
    "\n",
    "    def forward(self, x):\n",
    "        x = self.bn0(x)\n",
    "        x = self.conv1_bn(self.pool(F.relu(self.conv1(x))))\n",
    "        x = self.conv2_bn(self.pool(F.relu(self.conv2(x))))\n",
    "        x = self.conv3_bn(self.pool(F.relu(self.conv3(x))))\n",
    "        x = self.pool(F.relu(self.conv4(x)))\n",
    "        x = torch.flatten(x, 1) # flatten all dimensions except batch\n",
    "        x = self.fc(x)\n",
    "        return x\n",
    "\n",
    "\n",
    "model = Net()\n",
    "model = model.to(device)"
   ]
  },
  {
   "cell_type": "code",
   "execution_count": null,
   "metadata": {},
   "outputs": [],
   "source": [
    " !ls saved_models/smallboy_v2"
   ]
  },
  {
   "cell_type": "code",
   "execution_count": null,
   "metadata": {
    "colab": {
     "base_uri": "https://localhost:8080/"
    },
    "id": "xKyKE7EaoQ0D",
    "outputId": "95ab6918-15bc-4e06-b6cf-e49c97258730"
   },
   "outputs": [],
   "source": [
    "\n",
    "model_start = Net()\n",
    "model_start = model_start.to(device)\n",
    "\n",
    "model_early = Net()\n",
    "model_early = model_early.to(device)\n",
    "\n",
    "model_late = Net()\n",
    "model_late = model_late.to(device)\n",
    "\n",
    "model_start.load_state_dict(torch.load('saved_models/smallboy_v2/epoch_0_batch_0.pth', map_location=device))\n",
    "model_early.load_state_dict(torch.load('saved_models/smallboy_v2/epoch_0_batch_1800.pth', map_location=device))\n",
    "model_late.load_state_dict(torch.load('saved_models/smallboy_v2/epoch_10_batch_0.pth', map_location=device))\n"
   ]
  },
  {
   "cell_type": "code",
   "execution_count": null,
   "metadata": {
    "colab": {
     "base_uri": "https://localhost:8080/"
    },
    "id": "jW-DtPe8oY3M",
    "outputId": "5e83aa8c-7428-4ad3-d2e3-aef7e7e05879"
   },
   "outputs": [],
   "source": [
    "model_early.to(device).eval()\n",
    "model_start.to(device).eval()\n",
    "model_late.to(device).eval()"
   ]
  },
  {
   "cell_type": "code",
   "execution_count": null,
   "metadata": {},
   "outputs": [],
   "source": [
    "%pylab inline\n",
    "import matplotlib.pyplot as plt\n",
    "import matplotlib.image as mpimg\n"
   ]
  },
  {
   "cell_type": "code",
   "execution_count": null,
   "metadata": {
    "colab": {
     "base_uri": "https://localhost:8080/",
     "height": 242
    },
    "id": "n8ZYYitrpB7q",
    "outputId": "bafe6c2f-e45c-41a9-8b69-34b823a29411"
   },
   "outputs": [],
   "source": [
    "\n",
    "obj = objectives.channel('conv3', n_channel=1, batch=None)\n",
    "\n",
    "to_add = range(5, 25)\n",
    "for x in to_add:\n",
    "    obj += objectives.channel('conv3', n_channel=x, batch=None)\n",
    "tfms = [pad(12, mode=\"constant\", constant_value=.5),\n",
    "        jitter(8),\n",
    "        random_scale([1 + (i - 5) / 50. for i in range(11)]),\n",
    "        random_rotate(list(range(-10, 11)) + 5 * [0]),\n",
    "        jitter(4),]\n",
    "\n",
    "param_f = lambda: param.image(128, fft=False, decorrelate=False, batch=1)\n",
    "\n",
    "\n",
    "render.render_vis(model_start, obj, param_f, transforms=[], progress=False)\n",
    "render.render_vis(model_early, obj, param_f, transforms=[], progress=False)\n",
    "render.render_vis(model_late, obj, param_f, transforms=[], progress=False)"
   ]
  },
  {
   "cell_type": "code",
   "execution_count": null,
   "metadata": {},
   "outputs": [],
   "source": [
    "tfms = [pad(12, mode=\"constant\", constant_value=.5),\n",
    "        jitter(8),\n",
    "        random_scale([1 + (i - 5) / 50. for i in range(11)]),\n",
    "        random_rotate(list(range(-10, 11)) + 5 * [0]),\n",
    "        jitter(4),]\n",
    "\n",
    "param_f = lambda: param.image(320, fft=True, decorrelate=False, batch=1)\n",
    "\n",
    "\n",
    "render.render_vis(model_start, obj, param_f, transforms=tfms, progress=False)\n",
    "render.render_vis(model_early, obj, param_f, transforms=tfms, progress=False)\n",
    "render.render_vis(model_late, obj, param_f, transforms=tfms, progress=False)"
   ]
  },
  {
   "cell_type": "code",
   "execution_count": null,
   "metadata": {},
   "outputs": [],
   "source": [
    "a = render.render_vis(model, \"conv1:3\", transforms=[], progress=False)[0]"
   ]
  },
  {
   "cell_type": "code",
   "execution_count": null,
   "metadata": {},
   "outputs": [],
   "source": [
    "a = render.render_vis(model, \"conv1:3\", transforms=[], progress=False)[0]"
   ]
  },
  {
   "cell_type": "code",
   "execution_count": null,
   "metadata": {
    "id": "s2n81Swuoxc0"
   },
   "outputs": [],
   "source": [
    "a[0].shape"
   ]
  },
  {
   "cell_type": "code",
   "execution_count": null,
   "metadata": {},
   "outputs": [],
   "source": [
    "n_row = 2\n",
    "n_col = 3\n",
    "_, axs = plt.subplots(n_row, n_col, figsize=(18, 14))\n",
    "axs = axs.flatten()\n",
    "for ix, ax in zip(range(n_row*n_col), axs):\n",
    "  img = render.render_vis(net, f\"conv1:{ix}\", progress=False, show_image=False)[0]\n",
    "  #img = np.transpose(img, [0, 3, 2, 1])\n",
    "  img = np.reshape(img, (128, 128, 3))\n",
    "  ax.imshow(img)\n",
    "  ax.set_xticklabels([])\n",
    "  ax.set_yticklabels([])\n",
    "    \n",
    "plt.subplots_adjust(wspace=0, hspace=0)\n",
    "plt.show()"
   ]
  },
  {
   "cell_type": "code",
   "execution_count": null,
   "metadata": {
    "scrolled": true
   },
   "outputs": [],
   "source": [
    "n_row = 4\n",
    "n_col = 4\n",
    "_, axs = plt.subplots(n_row, n_col, figsize=(25, 25))\n",
    "axs = axs.flatten()\n",
    "for ix, ax in zip(range(16), axs):\n",
    "    param_f = lambda: param.image(128, fft=True, decorrelate=False)\n",
    "    img = render.render_vis(net, f\"conv2:{ix}\", param_f, transforms=[], progress=False, show_image=False)[0]\n",
    "    #img = np.transpose(img, [0, 3, 2, 1])\n",
    "    img = np.reshape(img, (128, 128, 3))\n",
    "    ax.imshow(img)\n",
    "    ax.set_xticklabels([])\n",
    "    ax.set_yticklabels([])\n",
    "    \n",
    "plt.subplots_adjust(wspace=0, hspace=0)\n",
    "plt.show()"
   ]
  },
  {
   "cell_type": "code",
   "execution_count": null,
   "metadata": {},
   "outputs": [],
   "source": [
    "channel = lambda n: objectives.channel(\"conv2\", n)\n",
    "obj = channel(0) + channel(1)\n",
    "_ = render.render_vis(net, obj, show_inline=True)"
   ]
  },
  {
   "cell_type": "markdown",
   "metadata": {},
   "source": [
    "# Captum (to the rescue?)"
   ]
  },
  {
   "cell_type": "code",
   "execution_count": null,
   "metadata": {},
   "outputs": [],
   "source": [
    "!git clone https://github.com/pytorch/captum\n",
    "%cd captum\n",
    "!git checkout \"optim-wip\"\n",
    "!pip3 install -e .\n",
    "import sys\n",
    "sys.path.append('/content/captum')\n",
    "%cd ..\n"
   ]
  },
  {
   "cell_type": "code",
   "execution_count": null,
   "metadata": {},
   "outputs": [],
   "source": [
    "import captum.optim as optimviz\n",
    "import torchvision"
   ]
  },
  {
   "cell_type": "code",
   "execution_count": null,
   "metadata": {},
   "outputs": [],
   "source": [
    "from typing import Callable, Iterable, Optional"
   ]
  },
  {
   "cell_type": "code",
   "execution_count": null,
   "metadata": {},
   "outputs": [],
   "source": [
    "def vis_neuron_large(\n",
    "    model: torch.nn.Module, target: torch.nn.Module, channel: int\n",
    ") -> None:\n",
    "    image = optimviz.images.NaturalImage((640, 640)).to(device)\n",
    "    transforms = torch.nn.Sequential(\n",
    "        torch.nn.ReflectionPad2d(2),\n",
    "        optimviz.transforms.RandomSpatialJitter(8),\n",
    "        optimviz.transforms.RandomScale(scale=(2, 2, 2, 0.95, 1.05)),\n",
    "        torchvision.transforms.RandomRotation(degrees=(-5, 5)),\n",
    "        optimviz.transforms.RandomSpatialJitter(2),\n",
    "        optimviz.transforms.CenterCrop((640, 640)),\n",
    "    )\n",
    "    loss_fn = optimviz.loss.NeuronActivation(target, channel)\n",
    "    obj = optimviz.InputOptimization(model, loss_fn, image, transforms)\n",
    "    history = obj.optimize(optimviz.optimization.n_steps(128, False))\n",
    "    image().show()"
   ]
  },
  {
   "cell_type": "code",
   "execution_count": null,
   "metadata": {},
   "outputs": [],
   "source": [
    "vis_neuron_large(model_early, model_early.conv4, 56)"
   ]
  },
  {
   "cell_type": "code",
   "execution_count": null,
   "metadata": {},
   "outputs": [],
   "source": [
    "vis_neuron_large(model_late, model_late.conv4, 4)"
   ]
  },
  {
   "cell_type": "code",
   "execution_count": null,
   "metadata": {},
   "outputs": [],
   "source": [
    "!nvidia-smi"
   ]
  },
  {
   "cell_type": "code",
   "execution_count": null,
   "metadata": {},
   "outputs": [],
   "source": []
  }
 ],
 "metadata": {
  "accelerator": "GPU",
  "colab": {
   "name": "5 - ECCV16 Dataset - Lucent",
   "provenance": []
  },
  "kernelspec": {
   "display_name": "Python 3",
   "language": "python",
   "name": "python3"
  },
  "language_info": {
   "codemirror_mode": {
    "name": "ipython",
    "version": 3
   },
   "file_extension": ".py",
   "mimetype": "text/x-python",
   "name": "python",
   "nbconvert_exporter": "python",
   "pygments_lexer": "ipython3",
   "version": "3.6.9"
  }
 },
 "nbformat": 4,
 "nbformat_minor": 1
}
