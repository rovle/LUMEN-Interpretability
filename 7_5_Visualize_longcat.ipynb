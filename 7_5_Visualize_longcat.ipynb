{
 "cells": [
  {
   "cell_type": "markdown",
   "metadata": {},
   "source": [
    "# Vizualizacija neurona u kitty mreži\n",
    "\n"
   ]
  },
  {
   "cell_type": "markdown",
   "metadata": {},
   "source": [
    "### Definicije i importovi"
   ]
  },
  {
   "cell_type": "code",
   "execution_count": null,
   "metadata": {
    "colab": {
     "base_uri": "https://localhost:8080/"
    },
    "id": "Gfklqz8Xl2Cr",
    "outputId": "bdb2760f-c01b-407d-afbb-35ba45ab756e"
   },
   "outputs": [],
   "source": [
    "pip install --quiet torch-lucent"
   ]
  },
  {
   "cell_type": "code",
   "execution_count": null,
   "metadata": {},
   "outputs": [],
   "source": [
    "from lucent.optvis.transform import pad, jitter, random_rotate, random_scale\n",
    "from lucent.optvis import render, param, transform, objectives"
   ]
  },
  {
   "cell_type": "code",
   "execution_count": null,
   "metadata": {
    "id": "l8nJovfjmTov"
   },
   "outputs": [],
   "source": [
    "import torch\n",
    "\n",
    "from lucent.optvis import render, param, transform, objectives\n",
    "\n",
    "device = torch.device(\"cuda:0\" if torch.cuda.is_available() else \"cpu\")"
   ]
  },
  {
   "cell_type": "code",
   "execution_count": null,
   "metadata": {
    "id": "xSzTWREboP_e"
   },
   "outputs": [],
   "source": [
    "import torch.nn as nn\n",
    "import torch.nn.functional as F\n",
    "\n",
    "class Net(nn.Module):\n",
    "    def __init__(self):\n",
    "        super().__init__()\n",
    "        self.bn0 = nn.BatchNorm2d(3)\n",
    "        self.conv1 = nn.Conv2d(3, 9, 3)\n",
    "        self.pool1 = nn.AvgPool2d(4, 4)\n",
    "        \n",
    "        self.conv1_bn = nn.BatchNorm2d(9)\n",
    "        self.conv2 = nn.Conv2d(9, 16, 3)\n",
    "        self.pool2 = nn.AvgPool2d(4, 4)\n",
    "        \n",
    "        self.conv2_bn = nn.BatchNorm2d(16)\n",
    "        self.conv3 = nn.Conv2d(16, 25, 3)\n",
    "        self.pool3 = nn.AvgPool2d(4, 4)\n",
    "        \n",
    "        self.conv3_bn = nn.BatchNorm2d(25)\n",
    "        self.conv4 = nn.Conv2d(25, 36, 3)\n",
    "        self.pool4 = nn.AvgPool2d(2 , 2)\n",
    "        \n",
    "        self.fc = nn.Linear(324, 4)\n",
    "\n",
    "    def forward(self, x):\n",
    "        x = self.bn0(x)\n",
    "        x = self.conv1_bn(self.pool1(F.relu(self.conv1(x))))\n",
    "        x = self.conv2_bn(self.pool2(F.relu(self.conv2(x))))\n",
    "        x = self.conv3_bn(self.pool3(F.relu(self.conv3(x))))\n",
    "        x = self.pool4(F.relu(self.conv4(x)))\n",
    "        x = torch.flatten(x, 1) # flatten all dimensions except batch\n",
    "        x = self.fc(x)\n",
    "        return x"
   ]
  },
  {
   "cell_type": "code",
   "execution_count": null,
   "metadata": {
    "colab": {
     "base_uri": "https://localhost:8080/"
    },
    "id": "xKyKE7EaoQ0D",
    "outputId": "95ab6918-15bc-4e06-b6cf-e49c97258730"
   },
   "outputs": [],
   "source": [
    "model_start = Net()\n",
    "model_start = model_start.to(device)\n",
    "\n",
    "model_early = Net()\n",
    "model_early = model_early.to(device)\n",
    "\n",
    "model_late = Net()\n",
    "model_late = model_late.to(device)\n",
    "\n",
    "model_start.load_state_dict(torch.load('saved_models/kitty/epoch_0_batch_0.pth', map_location=device))\n",
    "model_early.load_state_dict(torch.load('saved_models/kitty/epoch_0_batch_4001.pth', map_location=device))\n",
    "model_late.load_state_dict(torch.load('saved_models/kitty/epoch_7_batch_0.pth', map_location=device))\n"
   ]
  },
  {
   "cell_type": "code",
   "execution_count": null,
   "metadata": {
    "colab": {
     "base_uri": "https://localhost:8080/"
    },
    "id": "jW-DtPe8oY3M",
    "outputId": "5e83aa8c-7428-4ad3-d2e3-aef7e7e05879"
   },
   "outputs": [],
   "source": [
    "model_early.to(device).eval()\n",
    "model_start.to(device).eval()\n",
    "model_late.to(device).eval()"
   ]
  },
  {
   "cell_type": "code",
   "execution_count": null,
   "metadata": {},
   "outputs": [],
   "source": [
    "%pylab inline\n",
    "import matplotlib.pyplot as plt\n",
    "import matplotlib.image as mpimg\n"
   ]
  },
  {
   "cell_type": "code",
   "execution_count": null,
   "metadata": {},
   "outputs": [],
   "source": [
    "def lucent_show_layer(model, layer, grid_dim,\n",
    "                      param_f=None, transforms=None,\n",
    "                      optimizer=None, image_size=128):\n",
    "    n_row = grid_dim\n",
    "    n_col = grid_dim\n",
    "    _, axs = plt.subplots(n_row, n_col, figsize=(19.55, 20))\n",
    "    axs = axs.flatten()\n",
    "    for ix, ax in zip(range(n_row*n_col), axs):\n",
    "        img = render.render_vis(model, f\"{layer}:{ix}\", param_f=param_f,\n",
    "                                transforms=transforms, progress=False, show_image=False)[0]\n",
    "        img = np.reshape(img, (image_size, image_size, 3))\n",
    "        ax.imshow(img)\n",
    "        ax.set_xticklabels([])\n",
    "        ax.set_yticklabels([])\n",
    "        ax.set_xticks([])\n",
    "        ax.set_yticks([])\n",
    "        ax.margins(x=0, y=0, tight=True)\n",
    "\n",
    "    plt.subplots_adjust(wspace=0, hspace=0)\n",
    "    plt.show()"
   ]
  },
  {
   "cell_type": "markdown",
   "metadata": {},
   "source": [
    "### Lucent vizualizacija\n",
    "\n",
    "Lucent je PyTorch library nastao na Tensorflow library Lucid, kojeg su razvili ljudi iz Google Braina za _circuits research_."
   ]
  },
  {
   "cell_type": "markdown",
   "metadata": {},
   "source": [
    "### Sloj po sloj—"
   ]
  },
  {
   "cell_type": "markdown",
   "metadata": {},
   "source": [
    "#### 1."
   ]
  },
  {
   "cell_type": "markdown",
   "metadata": {},
   "source": [
    "##### Start"
   ]
  },
  {
   "cell_type": "code",
   "execution_count": null,
   "metadata": {},
   "outputs": [],
   "source": [
    "lucent_show_layer(model_start, 'conv1', 3,\n",
    "                  param_f=lambda: param.image(128),\n",
    "                  image_size=128)"
   ]
  },
  {
   "cell_type": "markdown",
   "metadata": {},
   "source": [
    "##### Early"
   ]
  },
  {
   "cell_type": "code",
   "execution_count": null,
   "metadata": {},
   "outputs": [],
   "source": [
    "lucent_show_layer(model_early, 'conv1', 3,\n",
    "                  param_f=lambda: param.image(128),\n",
    "                  image_size=128)"
   ]
  },
  {
   "cell_type": "markdown",
   "metadata": {},
   "source": [
    "###### Late"
   ]
  },
  {
   "cell_type": "code",
   "execution_count": null,
   "metadata": {},
   "outputs": [],
   "source": [
    "lucent_show_layer(model_late, 'conv1', 3,\n",
    "                  param_f=lambda: param.image(128),\n",
    "                  image_size=128)"
   ]
  },
  {
   "cell_type": "markdown",
   "metadata": {},
   "source": [
    "#### 2."
   ]
  },
  {
   "cell_type": "markdown",
   "metadata": {},
   "source": [
    "##### Start"
   ]
  },
  {
   "cell_type": "code",
   "execution_count": null,
   "metadata": {},
   "outputs": [],
   "source": [
    "lucent_show_layer(model_start, 'conv2', 4,\n",
    "                  param_f=lambda: param.image(128),\n",
    "                  image_size=128)"
   ]
  },
  {
   "cell_type": "markdown",
   "metadata": {},
   "source": [
    "##### Early"
   ]
  },
  {
   "cell_type": "code",
   "execution_count": null,
   "metadata": {},
   "outputs": [],
   "source": [
    "lucent_show_layer(model_early, 'conv2', 4,\n",
    "                  param_f=lambda: param.image(128),\n",
    "                  image_size=128)"
   ]
  },
  {
   "cell_type": "markdown",
   "metadata": {},
   "source": [
    "##### Late"
   ]
  },
  {
   "cell_type": "code",
   "execution_count": null,
   "metadata": {},
   "outputs": [],
   "source": [
    "lucent_show_layer(model_late, 'conv2', 4,\n",
    "                  param_f=lambda: param.image(128),\n",
    "                  image_size=128)"
   ]
  },
  {
   "cell_type": "markdown",
   "metadata": {},
   "source": [
    "#### 3."
   ]
  },
  {
   "cell_type": "markdown",
   "metadata": {},
   "source": [
    "##### Start"
   ]
  },
  {
   "cell_type": "code",
   "execution_count": null,
   "metadata": {},
   "outputs": [],
   "source": [
    "lucent_show_layer(model_start, 'conv3', 5,\n",
    "                  param_f=lambda: param.image(128),\n",
    "                  image_size=128)"
   ]
  },
  {
   "cell_type": "markdown",
   "metadata": {},
   "source": [
    "##### Early"
   ]
  },
  {
   "cell_type": "code",
   "execution_count": null,
   "metadata": {},
   "outputs": [],
   "source": [
    "lucent_show_layer(model_early, 'conv3', 5,\n",
    "                  param_f=lambda: param.image(128),\n",
    "                  image_size=128)"
   ]
  },
  {
   "cell_type": "markdown",
   "metadata": {},
   "source": [
    "##### Late"
   ]
  },
  {
   "cell_type": "code",
   "execution_count": null,
   "metadata": {},
   "outputs": [],
   "source": [
    "lucent_show_layer(model_late, 'conv3', 5,\n",
    "                  param_f=lambda: param.image(128),\n",
    "                  image_size=128)"
   ]
  },
  {
   "cell_type": "markdown",
   "metadata": {},
   "source": [
    "#### 4."
   ]
  },
  {
   "cell_type": "markdown",
   "metadata": {},
   "source": [
    "##### Start"
   ]
  },
  {
   "cell_type": "code",
   "execution_count": null,
   "metadata": {},
   "outputs": [],
   "source": [
    "lucent_show_layer(model_start, 'pool4', 6,\n",
    "                  param_f=lambda: param.image(32),\n",
    "                  image_size=32)"
   ]
  },
  {
   "cell_type": "code",
   "execution_count": null,
   "metadata": {},
   "outputs": [],
   "source": [
    "model_early.to(device).eval()"
   ]
  },
  {
   "cell_type": "markdown",
   "metadata": {},
   "source": [
    "##### Early"
   ]
  },
  {
   "cell_type": "code",
   "execution_count": null,
   "metadata": {},
   "outputs": [],
   "source": [
    "lucent_show_layer(model_early, 'conv4', 6,\n",
    "                  param_f=lambda: param.image(128),\n",
    "                  image_size=128)"
   ]
  },
  {
   "cell_type": "markdown",
   "metadata": {},
   "source": [
    "##### Late"
   ]
  },
  {
   "cell_type": "code",
   "execution_count": null,
   "metadata": {},
   "outputs": [],
   "source": [
    "lucent_show_layer(model_late, 'conv4', 6,\n",
    "                  param_f=lambda: param.image(128),\n",
    "                  image_size=128)"
   ]
  },
  {
   "cell_type": "code",
   "execution_count": null,
   "metadata": {},
   "outputs": [],
   "source": [
    "# možda ovdje, možda negdje drugdje staviti nešto o kombinaciji:\n",
    "\n",
    "# u drugom layeru, probati sumu neurona 1 i 4"
   ]
  },
  {
   "cell_type": "code",
   "execution_count": null,
   "metadata": {},
   "outputs": [],
   "source": [
    "channel = lambda n: objectives.channel(\"conv2\", n)\n",
    "obj = channel(1) + channel(4)\n",
    "_ = render.render_vis(model_late, obj, show_inline=True)"
   ]
  },
  {
   "cell_type": "code",
   "execution_count": null,
   "metadata": {},
   "outputs": [],
   "source": [
    "channel = lambda n: objectives.channel(\"conv3\", n)\n",
    "obj = sum([channel(n) for n in range(25) if n % 4 == 0])\n",
    "_ = render.render_vis(model_late, obj, show_inline=True)"
   ]
  },
  {
   "cell_type": "markdown",
   "metadata": {},
   "source": [
    "# Captum vizualizacija"
   ]
  },
  {
   "cell_type": "code",
   "execution_count": null,
   "metadata": {},
   "outputs": [],
   "source": [
    "!pip3 uninstall --quiet captum --y\n",
    "!git clone https://github.com/pytorch/captum\n",
    "%cd captum\n",
    "!git checkout \"optim-wip\"\n",
    "!pip3 install -e .\n",
    "import sys\n",
    "sys.path.append('/content/captum')\n",
    "%cd .."
   ]
  },
  {
   "cell_type": "code",
   "execution_count": null,
   "metadata": {},
   "outputs": [],
   "source": [
    "import captum.optim as optimviz\n",
    "import torchvision"
   ]
  },
  {
   "cell_type": "code",
   "execution_count": null,
   "metadata": {},
   "outputs": [],
   "source": [
    "from typing import Callable, Iterable, Optional"
   ]
  },
  {
   "cell_type": "code",
   "execution_count": null,
   "metadata": {},
   "outputs": [],
   "source": [
    "def vis_neuron_large(\n",
    "    model: torch.nn.Module, target: torch.nn.Module, channel: int\n",
    ") -> None:\n",
    "    image = optimviz.images.NaturalImage((640, 640)).to(device)\n",
    "    transforms = torch.nn.Sequential(\n",
    "        torch.nn.ReflectionPad2d(2),\n",
    "        optimviz.transforms.RandomSpatialJitter(8),\n",
    "        optimviz.transforms.RandomScale(scale=(2.15, 1.85, 2, 1.95, 2.05)),\n",
    "        torchvision.transforms.RandomRotation(degrees=(-15, 15)),\n",
    "        optimviz.transforms.RandomSpatialJitter(64),\n",
    "        optimviz.transforms.CenterCrop((640, 640)),\n",
    "    )\n",
    "    loss_fn = optimviz.loss.NeuronActivation(target, channel)\n",
    "    obj = optimviz.InputOptimization(model, loss_fn, image, transforms)\n",
    "    history = obj.optimize(optimviz.optimization.n_steps(512, False))\n",
    "    return image()"
   ]
  },
  {
   "cell_type": "code",
   "execution_count": null,
   "metadata": {},
   "outputs": [],
   "source": [
    "def visualize_layer_captum(model, layer, grid_dim):\n",
    "    n_row = grid_dim\n",
    "    n_col = grid_dim\n",
    "    _, axs = plt.subplots(n_row, n_col, figsize=(19.55, 20))\n",
    "    axs = axs.flatten()\n",
    "    for ix, ax in zip(range(n_row*n_col), axs):\n",
    "        img = vis_neuron_large(model, layer, ix)\n",
    "        img = img.permute(0, 2, 3, 1)\n",
    "        with torch.no_grad():\n",
    "            img = img.cpu().numpy()\n",
    "        img = img.reshape((640,640,3))\n",
    "        ax.imshow(img)\n",
    "        ax.set_xticklabels([])\n",
    "        ax.set_yticklabels([])\n",
    "        ax.set_xticks([])\n",
    "        ax.set_yticks([])\n",
    "        ax.margins(x=0, y=0, tight=True)\n",
    "\n",
    "\n",
    "    plt.subplots_adjust(wspace=0, hspace=0)\n",
    "    plt.show()"
   ]
  },
  {
   "cell_type": "code",
   "execution_count": null,
   "metadata": {},
   "outputs": [],
   "source": [
    "visualize_layer_captum(model_start, model_start.conv1, 3)"
   ]
  },
  {
   "cell_type": "code",
   "execution_count": null,
   "metadata": {},
   "outputs": [],
   "source": [
    "visualize_layer_captum(model_early, model_early.conv1, 3)"
   ]
  },
  {
   "cell_type": "code",
   "execution_count": null,
   "metadata": {},
   "outputs": [],
   "source": [
    "visualize_layer_captum(model_late, model_late.conv1, 3)"
   ]
  },
  {
   "cell_type": "code",
   "execution_count": null,
   "metadata": {},
   "outputs": [],
   "source": [
    "visualize_layer_captum(model_start, model_start.conv4, 6)"
   ]
  },
  {
   "cell_type": "code",
   "execution_count": null,
   "metadata": {},
   "outputs": [],
   "source": [
    "visualize_layer_captum(model_early, model_early.conv4, 6)"
   ]
  },
  {
   "cell_type": "code",
   "execution_count": null,
   "metadata": {},
   "outputs": [],
   "source": [
    "visualize_layer_captum(model_late, model_late.conv4, 6)"
   ]
  },
  {
   "cell_type": "code",
   "execution_count": null,
   "metadata": {},
   "outputs": [],
   "source": []
  }
 ],
 "metadata": {
  "accelerator": "GPU",
  "colab": {
   "name": "5 - ECCV16 Dataset - Lucent",
   "provenance": []
  },
  "kernelspec": {
   "display_name": "Python 3",
   "language": "python",
   "name": "python3"
  },
  "language_info": {
   "codemirror_mode": {
    "name": "ipython",
    "version": 3
   },
   "file_extension": ".py",
   "mimetype": "text/x-python",
   "name": "python",
   "nbconvert_exporter": "python",
   "pygments_lexer": "ipython3",
   "version": "3.6.9"
  }
 },
 "nbformat": 4,
 "nbformat_minor": 1
}
